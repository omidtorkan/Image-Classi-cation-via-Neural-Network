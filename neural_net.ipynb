{
  "nbformat": 4,
  "nbformat_minor": 0,
  "metadata": {
    "colab": {
      "name": "neural-net.ipynb",
      "provenance": [],
      "collapsed_sections": [],
      "authorship_tag": "ABX9TyNSIc+AT9jpxmDIEqAGeWZN",
      "include_colab_link": true
    },
    "kernelspec": {
      "name": "python3",
      "display_name": "Python 3"
    },
    "accelerator": "GPU"
  },
  "cells": [
    {
      "cell_type": "markdown",
      "metadata": {
        "id": "view-in-github",
        "colab_type": "text"
      },
      "source": [
        "<a href=\"https://colab.research.google.com/github/omidtorkan/Image-Classi-cation-via-Neural-Network/blob/master/neural_net.ipynb\" target=\"_parent\"><img src=\"https://colab.research.google.com/assets/colab-badge.svg\" alt=\"Open In Colab\"/></a>"
      ]
    },
    {
      "cell_type": "markdown",
      "metadata": {
        "id": "W2fMXOA1sLCa",
        "colab_type": "text"
      },
      "source": [
        "** *italicized text*1. import necessry libraries**\n",
        "\n"
      ]
    },
    {
      "cell_type": "code",
      "metadata": {
        "id": "Rjq0TTndrliT",
        "colab_type": "code",
        "colab": {
          "base_uri": "https://localhost:8080/",
          "height": 34
        },
        "outputId": "80d7d5aa-5234-402b-f450-3ba1adc613b9"
      },
      "source": [
        "import numpy as np\n",
        "import pandas as pd\n",
        "from keras.preprocessing.image import ImageDataGenerator\n",
        "import matplotlib.pyplot as plt\n",
        "from keras import backend as K\n",
        "from keras.utils import to_categorical\n",
        "from keras.layers import Dense, Conv2D, MaxPooling2D, Flatten, Dropout, Activation\n",
        "from keras.models import Sequential\n",
        "from keras.layers.advanced_activations import LeakyReLU\n",
        "from keras.optimizers import Adam\n",
        "from keras.losses import categorical_crossentropy\n",
        "from PIL import Image\n",
        "import shutil  \n",
        "\n",
        "base_path = '/content/gdrive/My Drive'\n",
        "new_data_set_path = '/content/gdrive/My Drive/final-data-set'"
      ],
      "execution_count": 1,
      "outputs": [
        {
          "output_type": "stream",
          "text": [
            "Using TensorFlow backend.\n"
          ],
          "name": "stderr"
        }
      ]
    },
    {
      "cell_type": "markdown",
      "metadata": {
        "id": "CMzQU6s6sYPB",
        "colab_type": "text"
      },
      "source": [
        "**2. connect to google drive to access dataset.**"
      ]
    },
    {
      "cell_type": "code",
      "metadata": {
        "id": "4TwMGenfsnNR",
        "colab_type": "code",
        "outputId": "bff9c589-ee69-4125-805c-e027fd40d392",
        "colab": {
          "base_uri": "https://localhost:8080/",
          "height": 122
        }
      },
      "source": [
        "from google.colab import drive\n",
        "drive.mount('/content/gdrive', True)"
      ],
      "execution_count": 2,
      "outputs": [
        {
          "output_type": "stream",
          "text": [
            "Go to this URL in a browser: https://accounts.google.com/o/oauth2/auth?client_id=947318989803-6bn6qk8qdgf4n4g3pfee6491hc0brc4i.apps.googleusercontent.com&redirect_uri=urn%3aietf%3awg%3aoauth%3a2.0%3aoob&response_type=code&scope=email%20https%3a%2f%2fwww.googleapis.com%2fauth%2fdocs.test%20https%3a%2f%2fwww.googleapis.com%2fauth%2fdrive%20https%3a%2f%2fwww.googleapis.com%2fauth%2fdrive.photos.readonly%20https%3a%2f%2fwww.googleapis.com%2fauth%2fpeopleapi.readonly\n",
            "\n",
            "Enter your authorization code:\n",
            "··········\n",
            "Mounted at /content/gdrive\n"
          ],
          "name": "stdout"
        }
      ]
    },
    {
      "cell_type": "markdown",
      "metadata": {
        "id": "RA1_VZs_trBS",
        "colab_type": "text"
      },
      "source": [
        "**3. test connection**"
      ]
    },
    {
      "cell_type": "code",
      "metadata": {
        "id": "hX3jfkcHtkGJ",
        "colab_type": "code",
        "outputId": "88d6e844-9215-426a-b3e1-eddf1533c3d3",
        "colab": {
          "base_uri": "https://localhost:8080/",
          "height": 51
        }
      },
      "source": [
        "# list all folders and files in My Drive\n",
        "! ls '/content/gdrive/My Drive'"
      ],
      "execution_count": 3,
      "outputs": [
        {
          "output_type": "stream",
          "text": [
            " 10    20    5\t 'Colab Notebooks'  'Getting started.pdf'   validation.txt\n",
            " 100   200   50   final-data-set     train.txt\n"
          ],
          "name": "stdout"
        }
      ]
    },
    {
      "cell_type": "markdown",
      "metadata": {
        "id": "_WD_N47S1RHX",
        "colab_type": "text"
      },
      "source": [
        "**4. define model parameters such as number of epochs,... and create data generator for partialy read big dataset**"
      ]
    },
    {
      "cell_type": "code",
      "metadata": {
        "id": "Q85wg2--NgeC",
        "colab_type": "code",
        "outputId": "7fda9746-de92-44fc-d420-af9e05b6943f",
        "colab": {
          "base_uri": "https://localhost:8080/",
          "height": 51
        }
      },
      "source": [
        "#define categories:\n",
        "categories = {0 : '5', 1: '10', 2: '20', 3: '50', 4: '100', 5: '200'}\n",
        "\n",
        "# define model parameters.\n",
        "mini_batch = 50 # every 50 samples gradient update weights.\n",
        "epochs = 12 # how many times model continues to learn.\n",
        "number_of_train = 5550\n",
        "number_of_test = 450\n",
        "\n",
        "# preprocess train data.\n",
        "# normalize rgb pixel values between 0, 1.\n",
        "train_datagen = ImageDataGenerator(\n",
        "    rescale=1./255\n",
        ")\n",
        "# preprocess test data.\n",
        "# normalize rgb pixel values between 0, 1.\n",
        "test_datagen = ImageDataGenerator(\n",
        "    rescale=1./255\n",
        ")\n",
        "# create train data generator to read train dataset partialy.\n",
        "train_generator = train_datagen.flow_from_directory(\n",
        "    new_data_set_path+'/train',\n",
        "    \n",
        "    target_size=(180, 320),\n",
        "    batch_size=mini_batch,\n",
        ")\n",
        "# create train data generator to read test dataset partialy.\n",
        "test_generator = test_datagen.flow_from_directory(\n",
        "        new_data_set_path+'/test',\n",
        "        target_size=(180, 320),\n",
        "        batch_size=mini_batch)"
      ],
      "execution_count": 4,
      "outputs": [
        {
          "output_type": "stream",
          "text": [
            "Found 5550 images belonging to 6 classes.\n",
            "Found 450 images belonging to 6 classes.\n"
          ],
          "name": "stdout"
        }
      ]
    },
    {
      "cell_type": "markdown",
      "metadata": {
        "id": "FwHoMSlW60_Q",
        "colab_type": "text"
      },
      "source": [
        "**5. define structure of neural net model**"
      ]
    },
    {
      "cell_type": "code",
      "metadata": {
        "id": "P8fmma_r7Hxr",
        "colab_type": "code",
        "outputId": "9229a4cb-5471-43f7-d4af-505b7400fe65",
        "colab": {
          "base_uri": "https://localhost:8080/",
          "height": 768
        }
      },
      "source": [
        "model=Sequential()\n",
        "model.add(Conv2D(input_shape=(180, 320 ,3),padding='same',kernel_size=3,filters=16))\n",
        "model.add(LeakyReLU(0.1))\n",
        "model.add(Conv2D(padding='same',kernel_size=3,filters=32))\n",
        "model.add(LeakyReLU(0.1))\n",
        "model.add(MaxPooling2D(pool_size=(2,2)))\n",
        "model.add(Dropout(0.25))\n",
        "model.add(Conv2D(padding='same',kernel_size=3,filters=32))\n",
        "model.add(LeakyReLU(0.1))\n",
        "model.add(Conv2D(padding='same',kernel_size=3,filters=64))\n",
        "model.add(LeakyReLU(0.1))\n",
        "model.add(MaxPooling2D(pool_size=(2,2)))\n",
        "model.add(Dropout(0.25))\n",
        "model.add(Flatten())\n",
        "model.add(Dense(256))\n",
        "model.add(Dropout(0.5))\n",
        "model.add(LeakyReLU(0.1))\n",
        "model.add(Dense(len(categories)))\n",
        "model.add(Activation('softmax'))\n",
        "model.summary()"
      ],
      "execution_count": 5,
      "outputs": [
        {
          "output_type": "stream",
          "text": [
            "Model: \"sequential_1\"\n",
            "_________________________________________________________________\n",
            "Layer (type)                 Output Shape              Param #   \n",
            "=================================================================\n",
            "conv2d_1 (Conv2D)            (None, 180, 320, 16)      448       \n",
            "_________________________________________________________________\n",
            "leaky_re_lu_1 (LeakyReLU)    (None, 180, 320, 16)      0         \n",
            "_________________________________________________________________\n",
            "conv2d_2 (Conv2D)            (None, 180, 320, 32)      4640      \n",
            "_________________________________________________________________\n",
            "leaky_re_lu_2 (LeakyReLU)    (None, 180, 320, 32)      0         \n",
            "_________________________________________________________________\n",
            "max_pooling2d_1 (MaxPooling2 (None, 90, 160, 32)       0         \n",
            "_________________________________________________________________\n",
            "dropout_1 (Dropout)          (None, 90, 160, 32)       0         \n",
            "_________________________________________________________________\n",
            "conv2d_3 (Conv2D)            (None, 90, 160, 32)       9248      \n",
            "_________________________________________________________________\n",
            "leaky_re_lu_3 (LeakyReLU)    (None, 90, 160, 32)       0         \n",
            "_________________________________________________________________\n",
            "conv2d_4 (Conv2D)            (None, 90, 160, 64)       18496     \n",
            "_________________________________________________________________\n",
            "leaky_re_lu_4 (LeakyReLU)    (None, 90, 160, 64)       0         \n",
            "_________________________________________________________________\n",
            "max_pooling2d_2 (MaxPooling2 (None, 45, 80, 64)        0         \n",
            "_________________________________________________________________\n",
            "dropout_2 (Dropout)          (None, 45, 80, 64)        0         \n",
            "_________________________________________________________________\n",
            "flatten_1 (Flatten)          (None, 230400)            0         \n",
            "_________________________________________________________________\n",
            "dense_1 (Dense)              (None, 256)               58982656  \n",
            "_________________________________________________________________\n",
            "dropout_3 (Dropout)          (None, 256)               0         \n",
            "_________________________________________________________________\n",
            "leaky_re_lu_5 (LeakyReLU)    (None, 256)               0         \n",
            "_________________________________________________________________\n",
            "dense_2 (Dense)              (None, 6)                 1542      \n",
            "_________________________________________________________________\n",
            "activation_1 (Activation)    (None, 6)                 0         \n",
            "=================================================================\n",
            "Total params: 59,017,030\n",
            "Trainable params: 59,017,030\n",
            "Non-trainable params: 0\n",
            "_________________________________________________________________\n"
          ],
          "name": "stdout"
        }
      ]
    },
    {
      "cell_type": "markdown",
      "metadata": {
        "id": "3JDSN4Db-sMl",
        "colab_type": "text"
      },
      "source": [
        "**6. compile model and set optimizer method and loss function for it**\n"
      ]
    },
    {
      "cell_type": "code",
      "metadata": {
        "id": "2ER5eP5q_0zU",
        "colab_type": "code",
        "colab": {}
      },
      "source": [
        "model.compile(loss=categorical_crossentropy,optimizer=Adam(), metrics=['accuracy'])"
      ],
      "execution_count": 0,
      "outputs": []
    },
    {
      "cell_type": "markdown",
      "metadata": {
        "id": "eRYmOTwJjMP3",
        "colab_type": "text"
      },
      "source": [
        "**7.start training and keep track loss and accuracy for plot curves after training**"
      ]
    },
    {
      "cell_type": "code",
      "metadata": {
        "id": "zvL7Hm3w_Ukl",
        "colab_type": "code",
        "outputId": "fab35c4c-b6fe-498c-d86e-5d8c6596afb4",
        "colab": {
          "base_uri": "https://localhost:8080/",
          "height": 426
        }
      },
      "source": [
        "histObject = model.fit(train_generator,\n",
        "          steps_per_epoch=(number_of_train // 100),\n",
        "          epochs=12,\n",
        "          verbose=1,\n",
        "          validation_data=test_generator)"
      ],
      "execution_count": 8,
      "outputs": [
        {
          "output_type": "stream",
          "text": [
            "Epoch 1/12\n",
            "55/55 [==============================] - 1317s 24s/step - loss: 3.9634 - accuracy: 0.1858 - val_loss: 4.9334 - val_accuracy: 0.1667\n",
            "Epoch 2/12\n",
            "55/55 [==============================] - 1306s 24s/step - loss: 1.5504 - accuracy: 0.3771 - val_loss: 3.6626 - val_accuracy: 0.2489\n",
            "Epoch 3/12\n",
            "55/55 [==============================] - 38s 689ms/step - loss: 0.9294 - accuracy: 0.6480 - val_loss: 0.7761 - val_accuracy: 0.7444\n",
            "Epoch 4/12\n",
            "55/55 [==============================] - 16s 283ms/step - loss: 0.5466 - accuracy: 0.8015 - val_loss: 0.9233 - val_accuracy: 0.7200\n",
            "Epoch 5/12\n",
            "55/55 [==============================] - 16s 292ms/step - loss: 0.3246 - accuracy: 0.8840 - val_loss: 0.1783 - val_accuracy: 0.8800\n",
            "Epoch 6/12\n",
            "55/55 [==============================] - 15s 280ms/step - loss: 0.2178 - accuracy: 0.9276 - val_loss: 0.2039 - val_accuracy: 0.9311\n",
            "Epoch 7/12\n",
            "55/55 [==============================] - 15s 280ms/step - loss: 0.1948 - accuracy: 0.9309 - val_loss: 0.2277 - val_accuracy: 0.9333\n",
            "Epoch 8/12\n",
            "55/55 [==============================] - 15s 280ms/step - loss: 0.2050 - accuracy: 0.9273 - val_loss: 0.0409 - val_accuracy: 0.9244\n",
            "Epoch 9/12\n",
            "55/55 [==============================] - 16s 287ms/step - loss: 0.0925 - accuracy: 0.9713 - val_loss: 0.1886 - val_accuracy: 0.9533\n",
            "Epoch 10/12\n",
            "55/55 [==============================] - 16s 286ms/step - loss: 0.0872 - accuracy: 0.9705 - val_loss: 0.1032 - val_accuracy: 0.9711\n",
            "Epoch 11/12\n",
            "55/55 [==============================] - 16s 285ms/step - loss: 0.1068 - accuracy: 0.9658 - val_loss: 0.0877 - val_accuracy: 0.9711\n",
            "Epoch 12/12\n",
            "55/55 [==============================] - 15s 281ms/step - loss: 0.0620 - accuracy: 0.9789 - val_loss: 0.2600 - val_accuracy: 0.9667\n"
          ],
          "name": "stdout"
        }
      ]
    },
    {
      "cell_type": "markdown",
      "metadata": {
        "id": "8nhSSgfTjZom",
        "colab_type": "text"
      },
      "source": [
        "**8. save model for future use**"
      ]
    },
    {
      "cell_type": "code",
      "metadata": {
        "id": "C6EiNoUcP-2X",
        "colab_type": "code",
        "colab": {}
      },
      "source": [
        "model.save('model.h5')"
      ],
      "execution_count": 0,
      "outputs": []
    },
    {
      "cell_type": "markdown",
      "metadata": {
        "id": "V5WFpmhMjplY",
        "colab_type": "text"
      },
      "source": [
        "**9. plot loss and accuracy curve**"
      ]
    },
    {
      "cell_type": "code",
      "metadata": {
        "id": "9iAaNhJIezoQ",
        "colab_type": "code",
        "outputId": "f46fe5a3-2210-4708-e1d0-701bc4eebef7",
        "colab": {
          "base_uri": "https://localhost:8080/",
          "height": 572
        }
      },
      "source": [
        "# plot loss functions curve function as epochs\n",
        "plt.figure(1)\n",
        "plt.plot(np.arange(1, 13), histObject.history['loss'])\n",
        "plt.plot(np.arange(1, 13), histObject.history['val_loss'])\n",
        "plt.title('Loss curve during training : blue for train and orange for validation')\n",
        "plt.xlabel('epochs')\n",
        "plt.ylabel('loss')\n",
        "# plot accuracy curve function as epochs\n",
        "\n",
        "plt.figure(2)\n",
        "plt.plot(np.arange(1, 13), histObject.history['accuracy'])\n",
        "plt.plot(np.arange(1, 13), histObject.history['val_accuracy'])\n",
        "plt.title('Accuracy curve during training : blue for train and orange for validation')\n",
        "plt.xlabel('epochs')\n",
        "plt.ylabel('accuracy')\n",
        "plt.show()"
      ],
      "execution_count": 10,
      "outputs": [
        {
          "output_type": "display_data",
          "data": {
            "image/png": "[encoded data removed]",
            "text/plain": [
              "<Figure size 432x288 with 1 Axes>"
            ]
          },
          "metadata": {
            "tags": [],
            "needs_background": "light"
          }
        },
        {
          "output_type": "display_data",
          "data": {
            "image/png": "[encoded data removed]",
            "text/plain": [
              "<Figure size 432x288 with 1 Axes>"
            ]
          },
          "metadata": {
            "tags": [],
            "needs_background": "light"
          }
        }
      ]
    }
  ]
}