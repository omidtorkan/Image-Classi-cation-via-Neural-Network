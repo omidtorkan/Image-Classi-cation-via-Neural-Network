{
  "nbformat": 4,
  "nbformat_minor": 0,
  "metadata": {
    "colab": {
      "name": "preprocess-dataset.ipynb",
      "provenance": [],
      "collapsed_sections": [],
      "authorship_tag": "ABX9TyPjJ4WJrnvkcu+u3kMOEuU5",
      "include_colab_link": true
    },
    "kernelspec": {
      "name": "python3",
      "display_name": "Python 3"
    }
  },
  "cells": [
    {
      "cell_type": "markdown",
      "metadata": {
        "id": "view-in-github",
        "colab_type": "text"
      },
      "source": [
        "<a href=\"https://colab.research.google.com/github/omidtorkan/Image-Classi-cation-via-Neural-Network/blob/master/preprocess_dataset%20and%20report.ipynb\" target=\"_parent\"><img src=\"https://colab.research.google.com/assets/colab-badge.svg\" alt=\"Open In Colab\"/></a>"
      ]
    },
    {
      "cell_type": "markdown",
      "metadata": {
        "id": "vrtVPZWlfuln",
        "colab_type": "text"
      },
      "source": [
        "1. connect to google drive to access dataset."
      ]
    },
    {
      "cell_type": "code",
      "metadata": {
        "id": "jtM_aqvwfXKN",
        "colab_type": "code",
        "colab": {}
      },
      "source": [
        "from google.colab import drive\n",
        "drive.mount('/content/gdrive', True)"
      ],
      "execution_count": 0,
      "outputs": []
    },
    {
      "cell_type": "markdown",
      "metadata": {
        "id": "-JUwCOSPf07Y",
        "colab_type": "text"
      },
      "source": [
        "2.  test connection"
      ]
    },
    {
      "cell_type": "code",
      "metadata": {
        "id": "4DjOA3M5f4rh",
        "colab_type": "code",
        "colab": {}
      },
      "source": [
        "# list all folders and files in My Drive\n",
        "! ls '/content/gdrive/My Drive'\n",
        "\n",
        "# define path\n",
        "base_path = '/content/gdrive/My Drive'\n",
        "new_data_set_path = '/content/gdrive/My Drive/final-data-set'"
      ],
      "execution_count": 0,
      "outputs": []
    },
    {
      "cell_type": "markdown",
      "metadata": {
        "id": "jkMckXAAgLgp",
        "colab_type": "text"
      },
      "source": [
        "3. read train and test address form text files\n",
        "\n",
        "\n",
        "---\n",
        "\n",
        "The text files contain address of images for example in train.txt each row indicate address of a train sample image."
      ]
    },
    {
      "cell_type": "code",
      "metadata": {
        "id": "nVvYOkIVgLsB",
        "colab_type": "code",
        "colab": {}
      },
      "source": [
        "# read validation.txt file and put each row in a list element.\n",
        "# split function split file content by \"Enter character\"\n",
        "test_list = open(base_path+'/validation.txt').read().split()\n",
        "# shwo 5 top rows of validation.txt\n",
        "print(\"# shwo 5 top rows of validation.txt\")\n",
        "print(test_list[:5])\n",
        "\n",
        "# read train.txt file and put each row in a list element.\n",
        "# split function split file content by \"Enter character\"\n",
        "train_list = open(base_path+'/train.txt').read().split()\n",
        "# shwo 5 top rows of validation.txt\n",
        "print(\"# shwo 5 top rows of train.txt\")\n",
        "print(train_list[:5])"
      ],
      "execution_count": 0,
      "outputs": []
    },
    {
      "cell_type": "markdown",
      "metadata": {
        "id": "FFaj6LyLgbgf",
        "colab_type": "text"
      },
      "source": [
        "4. show a sample image from train and test to validatie that we access images correctly"
      ]
    },
    {
      "cell_type": "code",
      "metadata": {
        "id": "xCfQ8h0GggBv",
        "colab_type": "code",
        "colab": {}
      },
      "source": [
        "# define a function to get a address and show image and print category value.\n",
        "def show_image_by_cat(relative_address):\n",
        "    # 5/eplus_5_1_0052.png => in this case we get 5 as category value.\n",
        "    category_value = relative_address.split('/')[0]\n",
        "    # read image\n",
        "    img = plt.imread(base_path+'/'+relative_address)\n",
        "    # show image\n",
        "    plt.imshow(img)\n",
        "    plt.title('Turkish banknote: {}'.format(category_value))\n",
        "    plt.show()"
      ],
      "execution_count": 0,
      "outputs": []
    },
    {
      "cell_type": "markdown",
      "metadata": {
        "id": "PRcyOzIKgnr-",
        "colab_type": "text"
      },
      "source": [
        "5.show some image for test code"
      ]
    },
    {
      "cell_type": "code",
      "metadata": {
        "id": "nyFz9-OQgn4_",
        "colab_type": "code",
        "colab": {}
      },
      "source": [
        "# show first row in train and test data set.\n",
        "show_image_by_cat(train_list[0])\n",
        "show_image_by_cat(test_list[0])"
      ],
      "execution_count": 0,
      "outputs": []
    },
    {
      "cell_type": "markdown",
      "metadata": {
        "id": "CARwqk9DhBgK",
        "colab_type": "text"
      },
      "source": [
        " 6. print number of train samples and number of test samples"
      ]
    },
    {
      "cell_type": "code",
      "metadata": {
        "id": "V6-bdhIChBo0",
        "colab_type": "code",
        "colab": {}
      },
      "source": [
        "number_of_train = len(train_list)\n",
        "number_of_test = len(test_list)\n",
        "print('number of train samples :', number_of_train, 'number of test samples :', number_of_test)"
      ],
      "execution_count": 0,
      "outputs": []
    },
    {
      "cell_type": "markdown",
      "metadata": {
        "id": "HFJC_Mt0hU_P",
        "colab_type": "text"
      },
      "source": [
        "7.resize images and create new dataset with resized images\n",
        "\n",
        "---\n",
        "resize image to lower dimensions to decrease number of trainable parameters.\n"
      ]
    },
    {
      "cell_type": "code",
      "metadata": {
        "id": "onovkhxphVI-",
        "colab_type": "code",
        "colab": {}
      },
      "source": [
        "import cv2\n",
        "\n",
        "def resize_image(image_address):\n",
        "    img = cv2.imread(base_path+'/'+image_address)\n",
        "    img_array = Image.fromarray(img, 'RGB')\n",
        "    return img_array.resize((320, 180)) \n",
        "\n",
        "for address in train_list:\n",
        "    resize_image(address).save(new_data_set_path+'/train/'+address)\n",
        "for address in test_list:\n",
        "    resize_image(address).save(new_data_set_path+'/test/'+address)"
      ],
      "execution_count": 0,
      "outputs": []
    }
  ]
}